{
 "cells": [
  {
   "cell_type": "code",
   "execution_count": 1,
   "id": "251f160a-3a87-438f-b1f5-0a0c415da37b",
   "metadata": {},
   "outputs": [],
   "source": [
    "import pandas as pd\n",
    "from sklearn.feature_extraction.text import TfidfVectorizer\n",
    "from sklearn.model_selection import train_test_split\n",
    "from sklearn.metrics import mean_squared_error\n",
    "import numpy as np\n",
    "import tensorflow as tf\n",
    "from tensorflow.keras.models import Sequential\n",
    "from tensorflow.keras.layers import Dense\n",
    "from tensorflow.keras.callbacks import EarlyStopping\n",
    "import matplotlib.pyplot as plt\n",
    "\n",
    "# 1. Load Yelp Reviews and Business Data\n",
    "df_reviews = pd.read_json('yelp_academic_dataset_review.json', lines=True, nrows=1000000)\n",
    "df_business = pd.read_json('yelp_academic_dataset_business.json', lines=True, nrows=1000000)\n",
    "\n",
    "\n",
    "# 2. Filter Businesses with at Least 20 Reviews\n",
    "business_review_counts = df_reviews.groupby('business_id').size()\n",
    "businesses_with_20_reviews = business_review_counts[business_review_counts >= 20].index\n",
    "df_reviews_filtered = df_reviews[df_reviews['business_id'].isin(businesses_with_20_reviews)]\n",
    "df_business_filtered = df_business[df_business['business_id'].isin(businesses_with_20_reviews)]\n",
    "\n",
    "# 3. Aggregate Reviews for Each Business\n",
    "df_review_agg = df_reviews_filtered.groupby('business_id')['text'].agg(lambda x: ' '.join(x)).reset_index()\n",
    "df_ready_for_tfidf = pd.merge(df_review_agg, df_business_filtered[['business_id', 'stars']], on='business_id')\n",
    "\n"
   ]
  },
  {
   "cell_type": "code",
   "execution_count": null,
   "id": "eb01d8b4-24d7-46c0-91e9-732c27798ecb",
   "metadata": {},
   "outputs": [],
   "source": []
  }
 ],
 "metadata": {
  "kernelspec": {
   "display_name": "Python (tf_env)",
   "language": "python",
   "name": "tf_env"
  },
  "language_info": {
   "codemirror_mode": {
    "name": "ipython",
    "version": 3
   },
   "file_extension": ".py",
   "mimetype": "text/x-python",
   "name": "python",
   "nbconvert_exporter": "python",
   "pygments_lexer": "ipython3",
   "version": "3.12.4"
  }
 },
 "nbformat": 4,
 "nbformat_minor": 5
}
