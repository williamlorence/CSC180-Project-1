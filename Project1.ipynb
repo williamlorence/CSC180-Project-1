{
 "cells": [
  {
   "cell_type": "markdown",
   "metadata": {},
   "source": [
    "#### CSC 180 Intelligent Systems \n",
    "\n",
    "#### William Lorence, Ajaydeep Singh, Romin Akoliya\n",
    "\n",
    "#### California State University, Sacramento\n"
   ]
  },
  {
   "cell_type": "markdown",
   "metadata": {},
   "source": [
    "# Project 1: Yelp Business Rating Prediction using Tensorflow\n",
    "## Data Preparation\n",
    "The following block of code sets up the ability to read the Yelp dataset and shows the first 5 rows of both the business dataframe and review dataframe separately. Note that businesses with less than 20 reviews are dropped from the dataframe."
   ]
  },
  {
   "cell_type": "code",
   "execution_count": 299,
   "metadata": {},
   "outputs": [
    {
     "data": {
      "text/html": [
       "<div>\n",
       "<style scoped>\n",
       "    .dataframe tbody tr th:only-of-type {\n",
       "        vertical-align: middle;\n",
       "    }\n",
       "\n",
       "    .dataframe tbody tr th {\n",
       "        vertical-align: top;\n",
       "    }\n",
       "\n",
       "    .dataframe thead th {\n",
       "        text-align: right;\n",
       "    }\n",
       "</style>\n",
       "<table border=\"1\" class=\"dataframe\">\n",
       "  <thead>\n",
       "    <tr style=\"text-align: right;\">\n",
       "      <th></th>\n",
       "      <th>business_id</th>\n",
       "      <th>name</th>\n",
       "      <th>address</th>\n",
       "      <th>city</th>\n",
       "      <th>state</th>\n",
       "      <th>postal_code</th>\n",
       "      <th>latitude</th>\n",
       "      <th>longitude</th>\n",
       "      <th>stars</th>\n",
       "      <th>review_count</th>\n",
       "      <th>is_open</th>\n",
       "      <th>attributes</th>\n",
       "      <th>categories</th>\n",
       "      <th>hours</th>\n",
       "    </tr>\n",
       "  </thead>\n",
       "  <tbody>\n",
       "    <tr>\n",
       "      <th>2</th>\n",
       "      <td>tUFrWirKiKi_TAnsVWINQQ</td>\n",
       "      <td>Target</td>\n",
       "      <td>5255 E Broadway Blvd</td>\n",
       "      <td>Tucson</td>\n",
       "      <td>AZ</td>\n",
       "      <td>85711</td>\n",
       "      <td>32.223236</td>\n",
       "      <td>-110.880452</td>\n",
       "      <td>3.5</td>\n",
       "      <td>22</td>\n",
       "      <td>0</td>\n",
       "      <td>{'BikeParking': 'True', 'BusinessAcceptsCredit...</td>\n",
       "      <td>Department Stores, Shopping, Fashion, Home &amp; G...</td>\n",
       "      <td>{'Monday': '8:0-22:0', 'Tuesday': '8:0-22:0', ...</td>\n",
       "    </tr>\n",
       "    <tr>\n",
       "      <th>3</th>\n",
       "      <td>MTSW4McQd7CbVtyjqoe9mw</td>\n",
       "      <td>St Honore Pastries</td>\n",
       "      <td>935 Race St</td>\n",
       "      <td>Philadelphia</td>\n",
       "      <td>PA</td>\n",
       "      <td>19107</td>\n",
       "      <td>39.955505</td>\n",
       "      <td>-75.155564</td>\n",
       "      <td>4.0</td>\n",
       "      <td>80</td>\n",
       "      <td>1</td>\n",
       "      <td>{'RestaurantsDelivery': 'False', 'OutdoorSeati...</td>\n",
       "      <td>Restaurants, Food, Bubble Tea, Coffee &amp; Tea, B...</td>\n",
       "      <td>{'Monday': '7:0-20:0', 'Tuesday': '7:0-20:0', ...</td>\n",
       "    </tr>\n",
       "    <tr>\n",
       "      <th>12</th>\n",
       "      <td>il_Ro8jwPlHresjw9EGmBg</td>\n",
       "      <td>Denny's</td>\n",
       "      <td>8901 US 31 S</td>\n",
       "      <td>Indianapolis</td>\n",
       "      <td>IN</td>\n",
       "      <td>46227</td>\n",
       "      <td>39.637133</td>\n",
       "      <td>-86.127217</td>\n",
       "      <td>2.5</td>\n",
       "      <td>28</td>\n",
       "      <td>1</td>\n",
       "      <td>{'RestaurantsReservations': 'False', 'Restaura...</td>\n",
       "      <td>American (Traditional), Restaurants, Diners, B...</td>\n",
       "      <td>{'Monday': '6:0-22:0', 'Tuesday': '6:0-22:0', ...</td>\n",
       "    </tr>\n",
       "    <tr>\n",
       "      <th>14</th>\n",
       "      <td>0bPLkL0QhhPO5kt1_EXmNQ</td>\n",
       "      <td>Zio's Italian Market</td>\n",
       "      <td>2575 E Bay Dr</td>\n",
       "      <td>Largo</td>\n",
       "      <td>FL</td>\n",
       "      <td>33771</td>\n",
       "      <td>27.916116</td>\n",
       "      <td>-82.760461</td>\n",
       "      <td>4.5</td>\n",
       "      <td>100</td>\n",
       "      <td>0</td>\n",
       "      <td>{'OutdoorSeating': 'False', 'RestaurantsGoodFo...</td>\n",
       "      <td>Food, Delis, Italian, Bakeries, Restaurants</td>\n",
       "      <td>{'Monday': '10:0-18:0', 'Tuesday': '10:0-20:0'...</td>\n",
       "    </tr>\n",
       "    <tr>\n",
       "      <th>15</th>\n",
       "      <td>MUTTqe8uqyMdBl186RmNeA</td>\n",
       "      <td>Tuna Bar</td>\n",
       "      <td>205 Race St</td>\n",
       "      <td>Philadelphia</td>\n",
       "      <td>PA</td>\n",
       "      <td>19106</td>\n",
       "      <td>39.953949</td>\n",
       "      <td>-75.143226</td>\n",
       "      <td>4.0</td>\n",
       "      <td>245</td>\n",
       "      <td>1</td>\n",
       "      <td>{'RestaurantsReservations': 'True', 'Restauran...</td>\n",
       "      <td>Sushi Bars, Restaurants, Japanese</td>\n",
       "      <td>{'Tuesday': '13:30-22:0', 'Wednesday': '13:30-...</td>\n",
       "    </tr>\n",
       "  </tbody>\n",
       "</table>\n",
       "</div>"
      ],
      "text/plain": [
       "               business_id                  name               address  \\\n",
       "2   tUFrWirKiKi_TAnsVWINQQ                Target  5255 E Broadway Blvd   \n",
       "3   MTSW4McQd7CbVtyjqoe9mw    St Honore Pastries           935 Race St   \n",
       "12  il_Ro8jwPlHresjw9EGmBg               Denny's          8901 US 31 S   \n",
       "14  0bPLkL0QhhPO5kt1_EXmNQ  Zio's Italian Market         2575 E Bay Dr   \n",
       "15  MUTTqe8uqyMdBl186RmNeA              Tuna Bar           205 Race St   \n",
       "\n",
       "            city state postal_code   latitude   longitude  stars  \\\n",
       "2         Tucson    AZ       85711  32.223236 -110.880452    3.5   \n",
       "3   Philadelphia    PA       19107  39.955505  -75.155564    4.0   \n",
       "12  Indianapolis    IN       46227  39.637133  -86.127217    2.5   \n",
       "14         Largo    FL       33771  27.916116  -82.760461    4.5   \n",
       "15  Philadelphia    PA       19106  39.953949  -75.143226    4.0   \n",
       "\n",
       "    review_count  is_open                                         attributes  \\\n",
       "2             22        0  {'BikeParking': 'True', 'BusinessAcceptsCredit...   \n",
       "3             80        1  {'RestaurantsDelivery': 'False', 'OutdoorSeati...   \n",
       "12            28        1  {'RestaurantsReservations': 'False', 'Restaura...   \n",
       "14           100        0  {'OutdoorSeating': 'False', 'RestaurantsGoodFo...   \n",
       "15           245        1  {'RestaurantsReservations': 'True', 'Restauran...   \n",
       "\n",
       "                                           categories  \\\n",
       "2   Department Stores, Shopping, Fashion, Home & G...   \n",
       "3   Restaurants, Food, Bubble Tea, Coffee & Tea, B...   \n",
       "12  American (Traditional), Restaurants, Diners, B...   \n",
       "14        Food, Delis, Italian, Bakeries, Restaurants   \n",
       "15                  Sushi Bars, Restaurants, Japanese   \n",
       "\n",
       "                                                hours  \n",
       "2   {'Monday': '8:0-22:0', 'Tuesday': '8:0-22:0', ...  \n",
       "3   {'Monday': '7:0-20:0', 'Tuesday': '7:0-20:0', ...  \n",
       "12  {'Monday': '6:0-22:0', 'Tuesday': '6:0-22:0', ...  \n",
       "14  {'Monday': '10:0-18:0', 'Tuesday': '10:0-20:0'...  \n",
       "15  {'Tuesday': '13:30-22:0', 'Wednesday': '13:30-...  "
      ]
     },
     "execution_count": 299,
     "metadata": {},
     "output_type": "execute_result"
    }
   ],
   "source": [
    "import pandas as pd\n",
    "from sklearn.feature_extraction.text import TfidfVectorizer\n",
    "from sklearn.model_selection import train_test_split\n",
    "from sklearn.metrics import mean_squared_error\n",
    "import numpy as np\n",
    "import tensorflow as tf\n",
    "import os\n",
    "from tensorflow.keras.models import load_model\n",
    "from tensorflow.keras.models import Sequential\n",
    "from tensorflow.keras.layers import Dense\n",
    "from tensorflow.keras.callbacks import EarlyStopping\n",
    "\n",
    "path = \"./yelp_dataset/\"\n",
    "save_path = \"./models/\"\n",
    "\n",
    "df_business = pd.read_json('./yelp_dataset/yelp_academic_dataset_business.json', lines=True, nrows = 1000000)\n",
    "df_business = df_business[df_business['review_count'] >= 20]\n",
    "\n",
    "df_business.head()"
   ]
  },
  {
   "cell_type": "code",
   "execution_count": 300,
   "metadata": {},
   "outputs": [
    {
     "data": {
      "text/html": [
       "<div>\n",
       "<style scoped>\n",
       "    .dataframe tbody tr th:only-of-type {\n",
       "        vertical-align: middle;\n",
       "    }\n",
       "\n",
       "    .dataframe tbody tr th {\n",
       "        vertical-align: top;\n",
       "    }\n",
       "\n",
       "    .dataframe thead th {\n",
       "        text-align: right;\n",
       "    }\n",
       "</style>\n",
       "<table border=\"1\" class=\"dataframe\">\n",
       "  <thead>\n",
       "    <tr style=\"text-align: right;\">\n",
       "      <th></th>\n",
       "      <th>review_id</th>\n",
       "      <th>user_id</th>\n",
       "      <th>business_id</th>\n",
       "      <th>stars</th>\n",
       "      <th>useful</th>\n",
       "      <th>funny</th>\n",
       "      <th>cool</th>\n",
       "      <th>text</th>\n",
       "      <th>date</th>\n",
       "    </tr>\n",
       "  </thead>\n",
       "  <tbody>\n",
       "    <tr>\n",
       "      <th>0</th>\n",
       "      <td>KU_O5udG6zpxOg-VcAEodg</td>\n",
       "      <td>mh_-eMZ6K5RLWhZyISBhwA</td>\n",
       "      <td>XQfwVwDr-v0ZS3_CbbE5Xw</td>\n",
       "      <td>3</td>\n",
       "      <td>0</td>\n",
       "      <td>0</td>\n",
       "      <td>0</td>\n",
       "      <td>If you decide to eat here, just be aware it is...</td>\n",
       "      <td>2018-07-07 22:09:11</td>\n",
       "    </tr>\n",
       "    <tr>\n",
       "      <th>1</th>\n",
       "      <td>BiTunyQ73aT9WBnpR9DZGw</td>\n",
       "      <td>OyoGAe7OKpv6SyGZT5g77Q</td>\n",
       "      <td>7ATYjTIgM3jUlt4UM3IypQ</td>\n",
       "      <td>5</td>\n",
       "      <td>1</td>\n",
       "      <td>0</td>\n",
       "      <td>1</td>\n",
       "      <td>I've taken a lot of spin classes over the year...</td>\n",
       "      <td>2012-01-03 15:28:18</td>\n",
       "    </tr>\n",
       "    <tr>\n",
       "      <th>2</th>\n",
       "      <td>saUsX_uimxRlCVr67Z4Jig</td>\n",
       "      <td>8g_iMtfSiwikVnbP2etR0A</td>\n",
       "      <td>YjUWPpI6HXG530lwP-fb2A</td>\n",
       "      <td>3</td>\n",
       "      <td>0</td>\n",
       "      <td>0</td>\n",
       "      <td>0</td>\n",
       "      <td>Family diner. Had the buffet. Eclectic assortm...</td>\n",
       "      <td>2014-02-05 20:30:30</td>\n",
       "    </tr>\n",
       "    <tr>\n",
       "      <th>3</th>\n",
       "      <td>AqPFMleE6RsU23_auESxiA</td>\n",
       "      <td>_7bHUi9Uuf5__HHc_Q8guQ</td>\n",
       "      <td>kxX2SOes4o-D3ZQBkiMRfA</td>\n",
       "      <td>5</td>\n",
       "      <td>1</td>\n",
       "      <td>0</td>\n",
       "      <td>1</td>\n",
       "      <td>Wow!  Yummy, different,  delicious.   Our favo...</td>\n",
       "      <td>2015-01-04 00:01:03</td>\n",
       "    </tr>\n",
       "    <tr>\n",
       "      <th>4</th>\n",
       "      <td>Sx8TMOWLNuJBWer-0pcmoA</td>\n",
       "      <td>bcjbaE6dDog4jkNY91ncLQ</td>\n",
       "      <td>e4Vwtrqf-wpJfwesgvdgxQ</td>\n",
       "      <td>4</td>\n",
       "      <td>1</td>\n",
       "      <td>0</td>\n",
       "      <td>1</td>\n",
       "      <td>Cute interior and owner (?) gave us tour of up...</td>\n",
       "      <td>2017-01-14 20:54:15</td>\n",
       "    </tr>\n",
       "  </tbody>\n",
       "</table>\n",
       "</div>"
      ],
      "text/plain": [
       "                review_id                 user_id             business_id  \\\n",
       "0  KU_O5udG6zpxOg-VcAEodg  mh_-eMZ6K5RLWhZyISBhwA  XQfwVwDr-v0ZS3_CbbE5Xw   \n",
       "1  BiTunyQ73aT9WBnpR9DZGw  OyoGAe7OKpv6SyGZT5g77Q  7ATYjTIgM3jUlt4UM3IypQ   \n",
       "2  saUsX_uimxRlCVr67Z4Jig  8g_iMtfSiwikVnbP2etR0A  YjUWPpI6HXG530lwP-fb2A   \n",
       "3  AqPFMleE6RsU23_auESxiA  _7bHUi9Uuf5__HHc_Q8guQ  kxX2SOes4o-D3ZQBkiMRfA   \n",
       "4  Sx8TMOWLNuJBWer-0pcmoA  bcjbaE6dDog4jkNY91ncLQ  e4Vwtrqf-wpJfwesgvdgxQ   \n",
       "\n",
       "   stars  useful  funny  cool  \\\n",
       "0      3       0      0     0   \n",
       "1      5       1      0     1   \n",
       "2      3       0      0     0   \n",
       "3      5       1      0     1   \n",
       "4      4       1      0     1   \n",
       "\n",
       "                                                text                date  \n",
       "0  If you decide to eat here, just be aware it is... 2018-07-07 22:09:11  \n",
       "1  I've taken a lot of spin classes over the year... 2012-01-03 15:28:18  \n",
       "2  Family diner. Had the buffet. Eclectic assortm... 2014-02-05 20:30:30  \n",
       "3  Wow!  Yummy, different,  delicious.   Our favo... 2015-01-04 00:01:03  \n",
       "4  Cute interior and owner (?) gave us tour of up... 2017-01-14 20:54:15  "
      ]
     },
     "execution_count": 300,
     "metadata": {},
     "output_type": "execute_result"
    }
   ],
   "source": [
    "df_review = pd.read_json('./yelp_dataset/yelp_academic_dataset_review.json', lines=True, nrows = 1000000)\n",
    "df_review.head()"
   ]
  },
  {
   "cell_type": "markdown",
   "metadata": {},
   "source": [
    "The next block of code groups all reviews (text) by business_id and concatenates all the reviews for each business into a single string. This means that for each business, you'll get one entry where all its reviews are combined into one text entry.\n",
    "\n",
    "df_ready_to_be_sent_to_sklearn converts the df_review_agg series into a dataframe.\n"
   ]
  },
  {
   "cell_type": "code",
   "execution_count": 301,
   "metadata": {},
   "outputs": [],
   "source": [
    "df_review_agg = df_review.groupby('business_id')['text'].sum()\n",
    "df_ready_to_be_sent_to_sklearn = pd.DataFrame({'business_id': df_review_agg.index, 'all_reviews': df_review_agg.values})"
   ]
  },
  {
   "cell_type": "markdown",
   "metadata": {},
   "source": [
    "The below merges df_ready_to_be_sent_to_sklearn (which contains the concatenated reviews for each business) with df_business (which contains other information about each business such as name, category, location, etc).\n",
    "\n",
    "df_review_business.shape = returns the shape of the resulting DataFrame (df_review_business), which tells you the number of rows and columns."
   ]
  },
  {
   "cell_type": "code",
   "execution_count": 302,
   "metadata": {},
   "outputs": [
    {
     "data": {
      "text/plain": [
       "(11927, 15)"
      ]
     },
     "execution_count": 302,
     "metadata": {},
     "output_type": "execute_result"
    }
   ],
   "source": [
    "df_review_business = pd.merge(df_ready_to_be_sent_to_sklearn, df_business, on='business_id')\n",
    "df_review_business.shape\n"
   ]
  },
  {
   "cell_type": "code",
   "execution_count": 303,
   "metadata": {},
   "outputs": [
    {
     "data": {
      "text/html": [
       "<div>\n",
       "<style scoped>\n",
       "    .dataframe tbody tr th:only-of-type {\n",
       "        vertical-align: middle;\n",
       "    }\n",
       "\n",
       "    .dataframe tbody tr th {\n",
       "        vertical-align: top;\n",
       "    }\n",
       "\n",
       "    .dataframe thead th {\n",
       "        text-align: right;\n",
       "    }\n",
       "</style>\n",
       "<table border=\"1\" class=\"dataframe\">\n",
       "  <thead>\n",
       "    <tr style=\"text-align: right;\">\n",
       "      <th></th>\n",
       "      <th>business_id</th>\n",
       "      <th>all_reviews</th>\n",
       "      <th>name</th>\n",
       "      <th>address</th>\n",
       "      <th>city</th>\n",
       "      <th>state</th>\n",
       "      <th>postal_code</th>\n",
       "      <th>latitude</th>\n",
       "      <th>longitude</th>\n",
       "      <th>stars</th>\n",
       "      <th>review_count</th>\n",
       "      <th>is_open</th>\n",
       "      <th>attributes</th>\n",
       "      <th>categories</th>\n",
       "      <th>hours</th>\n",
       "    </tr>\n",
       "  </thead>\n",
       "  <tbody>\n",
       "    <tr>\n",
       "      <th>0</th>\n",
       "      <td>--ZVrH2X2QXBFdCilbirsw</td>\n",
       "      <td>This place is sadly perm closed. I was hoping ...</td>\n",
       "      <td>Chris's Sandwich Shop</td>\n",
       "      <td>1531 W Wynnewood Rd</td>\n",
       "      <td>Ardmore</td>\n",
       "      <td>PA</td>\n",
       "      <td>19003</td>\n",
       "      <td>39.997299</td>\n",
       "      <td>-75.292207</td>\n",
       "      <td>4.5</td>\n",
       "      <td>32</td>\n",
       "      <td>0</td>\n",
       "      <td>{'GoodForKids': 'True', 'RestaurantsAttire': '...</td>\n",
       "      <td>American (Traditional), Restaurants, Pizza, Sa...</td>\n",
       "      <td>{'Monday': '11:0-21:0', 'Tuesday': '11:0-21:0'...</td>\n",
       "    </tr>\n",
       "    <tr>\n",
       "      <th>1</th>\n",
       "      <td>--sXnWH9Xm6_NvIjyuA99w</td>\n",
       "      <td>Ich war das erste mal in Philadelphia und ich ...</td>\n",
       "      <td>Philadelphia</td>\n",
       "      <td></td>\n",
       "      <td>Philadelphia</td>\n",
       "      <td>PA</td>\n",
       "      <td></td>\n",
       "      <td>39.952584</td>\n",
       "      <td>-75.165222</td>\n",
       "      <td>4.0</td>\n",
       "      <td>29</td>\n",
       "      <td>1</td>\n",
       "      <td>{'GoodForKids': 'True'}</td>\n",
       "      <td>Public Services &amp; Government, Local Flavor</td>\n",
       "      <td>None</td>\n",
       "    </tr>\n",
       "    <tr>\n",
       "      <th>2</th>\n",
       "      <td>-02xFuruu85XmDn2xiynJw</td>\n",
       "      <td>Dr. Curtis Dechant has an excellent chair-side...</td>\n",
       "      <td>Family Vision Center</td>\n",
       "      <td>7475 E Tanque Verde Rd</td>\n",
       "      <td>Tucson</td>\n",
       "      <td>AZ</td>\n",
       "      <td>85715</td>\n",
       "      <td>32.251039</td>\n",
       "      <td>-110.833173</td>\n",
       "      <td>4.5</td>\n",
       "      <td>109</td>\n",
       "      <td>1</td>\n",
       "      <td>{'ByAppointmentOnly': 'True', 'BusinessParking...</td>\n",
       "      <td>Shopping, Ophthalmologists, Optometrists, Doct...</td>\n",
       "      <td>{'Monday': '0:0-0:0', 'Tuesday': '8:30-17:30',...</td>\n",
       "    </tr>\n",
       "    <tr>\n",
       "      <th>3</th>\n",
       "      <td>-06OYKiIzxsdymBMDAKZug</td>\n",
       "      <td>Had catalytic converters replaced on our Subur...</td>\n",
       "      <td>Washoe Metal Fabricating</td>\n",
       "      <td>905 Bergin Way</td>\n",
       "      <td>Sparks</td>\n",
       "      <td>NV</td>\n",
       "      <td>89431</td>\n",
       "      <td>39.525558</td>\n",
       "      <td>-119.739221</td>\n",
       "      <td>4.5</td>\n",
       "      <td>34</td>\n",
       "      <td>1</td>\n",
       "      <td>{'BusinessAcceptsCreditCards': 'True', 'ByAppo...</td>\n",
       "      <td>RV Dealers, Home Services, Shopping, Tires, Au...</td>\n",
       "      <td>{'Monday': '7:30-17:30', 'Tuesday': '7:30-17:3...</td>\n",
       "    </tr>\n",
       "    <tr>\n",
       "      <th>4</th>\n",
       "      <td>-06ngMH_Ejkm_6HQBYxB7g</td>\n",
       "      <td>I have an old main line that really should be ...</td>\n",
       "      <td>Stewart's De Rooting &amp; Plumbing</td>\n",
       "      <td>415 E Montecito St</td>\n",
       "      <td>Santa Barbara</td>\n",
       "      <td>CA</td>\n",
       "      <td>93101</td>\n",
       "      <td>34.419838</td>\n",
       "      <td>-119.688029</td>\n",
       "      <td>4.0</td>\n",
       "      <td>25</td>\n",
       "      <td>1</td>\n",
       "      <td>{'BusinessAcceptsCreditCards': 'True', 'ByAppo...</td>\n",
       "      <td>Plumbing, Home Services</td>\n",
       "      <td>{'Monday': '0:0-0:0', 'Tuesday': '0:0-0:0', 'W...</td>\n",
       "    </tr>\n",
       "  </tbody>\n",
       "</table>\n",
       "</div>"
      ],
      "text/plain": [
       "              business_id                                        all_reviews  \\\n",
       "0  --ZVrH2X2QXBFdCilbirsw  This place is sadly perm closed. I was hoping ...   \n",
       "1  --sXnWH9Xm6_NvIjyuA99w  Ich war das erste mal in Philadelphia und ich ...   \n",
       "2  -02xFuruu85XmDn2xiynJw  Dr. Curtis Dechant has an excellent chair-side...   \n",
       "3  -06OYKiIzxsdymBMDAKZug  Had catalytic converters replaced on our Subur...   \n",
       "4  -06ngMH_Ejkm_6HQBYxB7g  I have an old main line that really should be ...   \n",
       "\n",
       "                              name                 address           city  \\\n",
       "0            Chris's Sandwich Shop     1531 W Wynnewood Rd        Ardmore   \n",
       "1                     Philadelphia                           Philadelphia   \n",
       "2             Family Vision Center  7475 E Tanque Verde Rd         Tucson   \n",
       "3         Washoe Metal Fabricating          905 Bergin Way         Sparks   \n",
       "4  Stewart's De Rooting & Plumbing      415 E Montecito St  Santa Barbara   \n",
       "\n",
       "  state postal_code   latitude   longitude  stars  review_count  is_open  \\\n",
       "0    PA       19003  39.997299  -75.292207    4.5            32        0   \n",
       "1    PA              39.952584  -75.165222    4.0            29        1   \n",
       "2    AZ       85715  32.251039 -110.833173    4.5           109        1   \n",
       "3    NV       89431  39.525558 -119.739221    4.5            34        1   \n",
       "4    CA       93101  34.419838 -119.688029    4.0            25        1   \n",
       "\n",
       "                                          attributes  \\\n",
       "0  {'GoodForKids': 'True', 'RestaurantsAttire': '...   \n",
       "1                            {'GoodForKids': 'True'}   \n",
       "2  {'ByAppointmentOnly': 'True', 'BusinessParking...   \n",
       "3  {'BusinessAcceptsCreditCards': 'True', 'ByAppo...   \n",
       "4  {'BusinessAcceptsCreditCards': 'True', 'ByAppo...   \n",
       "\n",
       "                                          categories  \\\n",
       "0  American (Traditional), Restaurants, Pizza, Sa...   \n",
       "1         Public Services & Government, Local Flavor   \n",
       "2  Shopping, Ophthalmologists, Optometrists, Doct...   \n",
       "3  RV Dealers, Home Services, Shopping, Tires, Au...   \n",
       "4                            Plumbing, Home Services   \n",
       "\n",
       "                                               hours  \n",
       "0  {'Monday': '11:0-21:0', 'Tuesday': '11:0-21:0'...  \n",
       "1                                               None  \n",
       "2  {'Monday': '0:0-0:0', 'Tuesday': '8:30-17:30',...  \n",
       "3  {'Monday': '7:30-17:30', 'Tuesday': '7:30-17:3...  \n",
       "4  {'Monday': '0:0-0:0', 'Tuesday': '0:0-0:0', 'W...  "
      ]
     },
     "execution_count": 303,
     "metadata": {},
     "output_type": "execute_result"
    }
   ],
   "source": [
    "df_review_business.head()"
   ]
  },
  {
   "cell_type": "markdown",
   "metadata": {},
   "source": [
    "## TF-IDF to extract features from reviews\n",
    "\n",
    "The following block of code takes common words from the filtered dataframe and compiles them into the list \"X\"."
   ]
  },
  {
   "cell_type": "code",
   "execution_count": 304,
   "metadata": {},
   "outputs": [
    {
     "name": "stdout",
     "output_type": "stream",
     "text": [
      "Shape of TF-IDF matrix: (11927, 5000)\n"
     ]
    }
   ],
   "source": [
    "import pandas as pd\n",
    "from sklearn.feature_extraction.text import TfidfVectorizer\n",
    "\n",
    "# Initialize the TfidfVectorizer\n",
    "vectorizer = TfidfVectorizer(max_df=0.95, min_df=5, max_features=5000, stop_words='english')\n",
    "\n",
    "# Fit and transform the 'all_reviews' column\n",
    "tfidf_matrix = vectorizer.fit_transform(df_review_business['all_reviews'])\n",
    "\n",
    "# Check the shape of the resulting TF-IDF matrix\n",
    "# This should be (n_samples, n_features), where n_samples is the number of businesses\n",
    "# and n_features is the number of words (features) in the TF-IDF representation.\n",
    "print(\"Shape of TF-IDF matrix:\", tfidf_matrix.shape)\n",
    "\n",
    "# Get the feature names (words) for printing\n",
    "feature_names = vectorizer.get_feature_names_out()\n",
    "#print(\"Some feature names (words):\", feature_names)"
   ]
  },
  {
   "cell_type": "markdown",
   "metadata": {},
   "source": [
    "The next block of code simply takes the words gathered from the reviews (in the form of the TF-IDF matrix) and the review ratings (in stars) and prepares them for training."
   ]
  },
  {
   "cell_type": "code",
   "execution_count": 306,
   "metadata": {},
   "outputs": [],
   "source": [
    "X = tfidf_matrix   #Review words\n",
    "y = df_review_business['stars'].values  # Business star ratings (target)\n",
    "\n",
    "X_train, X_test, y_train, y_test = train_test_split(X, y, test_size=0.2, random_state=42)"
   ]
  },
  {
   "cell_type": "markdown",
   "metadata": {},
   "source": [
    "## Model Building and Training\n",
    "The following function further prepares for training by preparing the neural network model. By default, it uses relu as the activation model and adam as the optimizer. The function allows us to easily tweak values that will affect the overall outcome of the model."
   ]
  },
  {
   "cell_type": "code",
   "execution_count": 307,
   "metadata": {},
   "outputs": [],
   "source": [
    "def build_model(activation='relu', optimizer='adam', layer_count=2, neuron_count_array=[128,64]):\n",
    "    \n",
    "    if len(neuron_count_array) != layer_count:\n",
    "        raise Exception(\"layer_count is not equal to the number of elements in neuron_count_array\")\n",
    "    \n",
    "    model = Sequential()\n",
    "    model.add(Dense(neuron_count_array[0], activation=activation, input_shape=(X_train.shape[1],))) # Initial layer, with input shape\n",
    "    for i in range(layer_count-1):\n",
    "        model.add(Dense(neuron_count_array[i+1], activation=activation))    #In between layers\n",
    "    model.add(Dense(1))  # Regression task, so no activation in the output layer\n",
    "    model.compile(optimizer=optimizer, loss='mean_squared_error')\n",
    "    return model"
   ]
  },
  {
   "cell_type": "markdown",
   "metadata": {},
   "source": [
    "When the following code is run, it performs the actual \"training\" of the model. It creates the model based on the values specified and fits the model over 100 epochs or until the early stopping takes place."
   ]
  },
  {
   "cell_type": "code",
   "execution_count": 363,
   "metadata": {},
   "outputs": [
    {
     "name": "stderr",
     "output_type": "stream",
     "text": [
      "c:\\Users\\legow\\anaconda3\\Lib\\site-packages\\keras\\src\\layers\\core\\dense.py:87: UserWarning: Do not pass an `input_shape`/`input_dim` argument to a layer. When using Sequential models, prefer using an `Input(shape)` object as the first layer in the model instead.\n",
      "  super().__init__(activity_regularizer=activity_regularizer, **kwargs)\n"
     ]
    },
    {
     "name": "stdout",
     "output_type": "stream",
     "text": [
      "Epoch 1/100\n",
      "\u001b[1m299/299\u001b[0m \u001b[32m━━━━━━━━━━━━━━━━━━━━\u001b[0m\u001b[37m\u001b[0m \u001b[1m2s\u001b[0m 4ms/step - loss: 1.8365 - val_loss: 0.2338\n",
      "Epoch 2/100\n",
      "\u001b[1m299/299\u001b[0m \u001b[32m━━━━━━━━━━━━━━━━━━━━\u001b[0m\u001b[37m\u001b[0m \u001b[1m1s\u001b[0m 3ms/step - loss: 0.1827 - val_loss: 0.1708\n",
      "Epoch 3/100\n",
      "\u001b[1m299/299\u001b[0m \u001b[32m━━━━━━━━━━━━━━━━━━━━\u001b[0m\u001b[37m\u001b[0m \u001b[1m1s\u001b[0m 3ms/step - loss: 0.1058 - val_loss: 0.1744\n",
      "Epoch 4/100\n",
      "\u001b[1m299/299\u001b[0m \u001b[32m━━━━━━━━━━━━━━━━━━━━\u001b[0m\u001b[37m\u001b[0m \u001b[1m1s\u001b[0m 3ms/step - loss: 0.0817 - val_loss: 0.1806\n",
      "Epoch 5/100\n",
      "\u001b[1m299/299\u001b[0m \u001b[32m━━━━━━━━━━━━━━━━━━━━\u001b[0m\u001b[37m\u001b[0m \u001b[1m1s\u001b[0m 3ms/step - loss: 0.0706 - val_loss: 0.1837\n",
      "Epoch 6/100\n",
      "\u001b[1m299/299\u001b[0m \u001b[32m━━━━━━━━━━━━━━━━━━━━\u001b[0m\u001b[37m\u001b[0m \u001b[1m1s\u001b[0m 3ms/step - loss: 0.0594 - val_loss: 0.1906\n",
      "Epoch 7/100\n",
      "\u001b[1m299/299\u001b[0m \u001b[32m━━━━━━━━━━━━━━━━━━━━\u001b[0m\u001b[37m\u001b[0m \u001b[1m1s\u001b[0m 3ms/step - loss: 0.0524 - val_loss: 0.1994\n",
      "Epoch 7: early stopping\n",
      "\u001b[1m75/75\u001b[0m \u001b[32m━━━━━━━━━━━━━━━━━━━━\u001b[0m\u001b[37m\u001b[0m \u001b[1m0s\u001b[0m 1ms/step  \n",
      "Root Mean Squared Error (RMSE): 0.44659811999621063\n"
     ]
    }
   ],
   "source": [
    "early_stopping = EarlyStopping(monitor='val_loss', min_delta=1e-3, patience=5, verbose=2, mode='auto')\n",
    "\n",
    "model = build_model(activation='tanh', optimizer='adam', layer_count=2, neuron_count_array=[256,16])\n",
    "history = model.fit(X_train, y_train, validation_data=(X_test, y_test), epochs=100, callbacks=[early_stopping])\n",
    "\n",
    "y_pred = model.predict(X_test).flatten()  # Flatten y_pred to make it compatible with y_test\n",
    "rmse = np.sqrt(mean_squared_error(y_test, y_pred))\n",
    "print(f\"Root Mean Squared Error (RMSE): {rmse}\")"
   ]
  },
  {
   "cell_type": "markdown",
   "metadata": {},
   "source": [
    "## Predictions\n",
    "Finally, the next block of code allows us to test this newly trained model's performance. It takes a random assortment of 5000 businesses (which seems to be the sweet spot for consistency) from the dataset and predicts their rating based on its training. The results are rounded to the nearest 0.5 star due to the fact that the model has no way of knowing that Yelp ratings are restricted to this scale, so any in-between values are treated as how certain the model is about a rating. For example, if the model predicts a 2.89, it is more certain that the correct rating is a 3.0 than a 2.5, so the result will be rounded to 3.0. The first 5 predictions are printed for clarity."
   ]
  },
  {
   "cell_type": "code",
   "execution_count": 364,
   "metadata": {},
   "outputs": [
    {
     "name": "stdout",
     "output_type": "stream",
     "text": [
      "\u001b[1m157/157\u001b[0m \u001b[32m━━━━━━━━━━━━━━━━━━━━\u001b[0m\u001b[37m\u001b[0m \u001b[1m0s\u001b[0m 643us/step\n",
      "\n",
      "Sample Predictions:\n",
      "Business: hJWeckeGVJ9FTzshPG-T5Q, True Rating: 3.0, Predicted Rating: 3.0\n",
      "Business: -CRjqZ4GxZ6lIa_qMj7-yw, True Rating: 3.5, Predicted Rating: 3.5\n",
      "Business: JgDCHRGh9b_mFe5V71_u_Q, True Rating: 4.5, Predicted Rating: 4.5\n",
      "Business: iGTrw3hno7Yf6e6B98VZMA, True Rating: 1.5, Predicted Rating: 1.5\n",
      "Business: s6rOJDtIABdQ8uLlXSUvgw, True Rating: 4.0, Predicted Rating: 4.0\n"
     ]
    }
   ],
   "source": [
    "sample_size = 5000\n",
    "\n",
    "sample_businesses = df_review_business.sample(sample_size).reset_index(drop=True)  # Ensure indices are reset\n",
    "sample_reviews = vectorizer.transform(sample_businesses['all_reviews']).toarray()\n",
    "predicted_ratings = model.predict(sample_reviews)\n",
    "\n",
    "print(\"\\nSample Predictions:\")\n",
    "\n",
    "percent_correct = 100\n",
    "error_total = 0\n",
    "\n",
    "for i, row in sample_businesses.iterrows():\n",
    "    true_rating = row['stars']\n",
    "    predicted_rating = round(predicted_ratings[i][0] * 2, 0)/2\n",
    "\n",
    "    error_total += abs(true_rating - predicted_rating)\n",
    "\n",
    "    if true_rating != predicted_rating:\n",
    "        percent_correct += (-1 * 100 / sample_size)\n",
    "\n",
    "    if i<5:\n",
    "        print(f\"Business: {row['business_id']}, True Rating: {true_rating}, Predicted Rating: {predicted_rating}\")\n",
    "\n",
    "percent_correct = round(percent_correct, 4)"
   ]
  },
  {
   "cell_type": "markdown",
   "metadata": {},
   "source": [
    "## Saving the Model\n",
    "\n",
    "The final block of code saves the current model to the \"models\" folder in the form of a hdf5 file named \"network1\". Our other models are also saved here."
   ]
  },
  {
   "cell_type": "code",
   "execution_count": 337,
   "metadata": {},
   "outputs": [
    {
     "name": "stderr",
     "output_type": "stream",
     "text": [
      "WARNING:absl:You are saving your model as an HDF5 file via `model.save()` or `keras.saving.save_model(model)`. This file format is considered legacy. We recommend using instead the native Keras format, e.g. `model.save('my_model.keras')` or `keras.saving.save_model(model, 'my_model.keras')`. \n"
     ]
    }
   ],
   "source": [
    "import os\n",
    "\n",
    "model.save(os.path.join(save_path,\"network1.hdf5\"))"
   ]
  },
  {
   "cell_type": "markdown",
   "metadata": {},
   "source": [
    "## Which models perform the best?\n",
    "The best model achieved was network3, which had an RMSE of 0.436. This was the largest model, but there are definitely other optimizations that can be made. We tested numerous iterations of different networks that weren't saved because they performed worse than their counterparts. We only saved the best networks of a given size. Overall, while RELU was fastest to compute and is what we used at the start, tanh and sigmoid were more accurate overall at the cost of efficiency, but also more unpredictable occasionally. Adam was consistently the best optimizer option. Increasing the size of the model also improved results, but with diminishing results due to the simplicity of the data."
   ]
  },
  {
   "cell_type": "code",
   "execution_count": 357,
   "metadata": {},
   "outputs": [
    {
     "name": "stderr",
     "output_type": "stream",
     "text": [
      "WARNING:absl:Compiled the loaded model, but the compiled metrics have yet to be built. `model.compile_metrics` will be empty until you train or evaluate the model.\n"
     ]
    },
    {
     "name": "stdout",
     "output_type": "stream",
     "text": [
      "\u001b[1m75/75\u001b[0m \u001b[32m━━━━━━━━━━━━━━━━━━━━\u001b[0m\u001b[37m\u001b[0m \u001b[1m0s\u001b[0m 1ms/step  \n"
     ]
    },
    {
     "name": "stderr",
     "output_type": "stream",
     "text": [
      "WARNING:absl:Compiled the loaded model, but the compiled metrics have yet to be built. `model.compile_metrics` will be empty until you train or evaluate the model.\n"
     ]
    },
    {
     "name": "stdout",
     "output_type": "stream",
     "text": [
      "Root Mean Squared Error (RMSE): 0.4830612096787938\n",
      "\u001b[1m75/75\u001b[0m \u001b[32m━━━━━━━━━━━━━━━━━━━━\u001b[0m\u001b[37m\u001b[0m \u001b[1m0s\u001b[0m 2ms/step\n"
     ]
    },
    {
     "name": "stderr",
     "output_type": "stream",
     "text": [
      "WARNING:absl:Compiled the loaded model, but the compiled metrics have yet to be built. `model.compile_metrics` will be empty until you train or evaluate the model.\n"
     ]
    },
    {
     "name": "stdout",
     "output_type": "stream",
     "text": [
      "Root Mean Squared Error (RMSE): 0.4387478617573927\n",
      "\u001b[1m75/75\u001b[0m \u001b[32m━━━━━━━━━━━━━━━━━━━━\u001b[0m\u001b[37m\u001b[0m \u001b[1m0s\u001b[0m 2ms/step\n"
     ]
    },
    {
     "name": "stderr",
     "output_type": "stream",
     "text": [
      "WARNING:absl:Compiled the loaded model, but the compiled metrics have yet to be built. `model.compile_metrics` will be empty until you train or evaluate the model.\n"
     ]
    },
    {
     "name": "stdout",
     "output_type": "stream",
     "text": [
      "Root Mean Squared Error (RMSE): 0.4360576611981808\n",
      "\u001b[1m75/75\u001b[0m \u001b[32m━━━━━━━━━━━━━━━━━━━━\u001b[0m\u001b[37m\u001b[0m \u001b[1m0s\u001b[0m 1ms/step  \n",
      "Root Mean Squared Error (RMSE): 0.42663762595679694\n"
     ]
    }
   ],
   "source": [
    "model = load_model(os.path.join(save_path,\"network1.hdf5\"))\n",
    "\n",
    "y_pred = model.predict(X_test).flatten()  # Flatten y_pred to make it compatible with y_test\n",
    "rmse = np.sqrt(mean_squared_error(y_test, y_pred))\n",
    "print(f\"Root Mean Squared Error (RMSE): {rmse}\")\n",
    "\n",
    "model = load_model(os.path.join(save_path,\"network2.hdf5\"))\n",
    "\n",
    "y_pred = model.predict(X_test).flatten()  # Flatten y_pred to make it compatible with y_test\n",
    "rmse = np.sqrt(mean_squared_error(y_test, y_pred))\n",
    "print(f\"Root Mean Squared Error (RMSE): {rmse}\")\n",
    "\n",
    "model = load_model(os.path.join(save_path,\"network3.hdf5\"))\n",
    "\n",
    "y_pred = model.predict(X_test).flatten()  # Flatten y_pred to make it compatible with y_test\n",
    "rmse = np.sqrt(mean_squared_error(y_test, y_pred))\n",
    "print(f\"Root Mean Squared Error (RMSE): {rmse}\")\n",
    "\n",
    "model = load_model(os.path.join(save_path,\"network4.hdf5\"))\n",
    "\n",
    "y_pred = model.predict(X_test).flatten()  # Flatten y_pred to make it compatible with y_test\n",
    "rmse = np.sqrt(mean_squared_error(y_test, y_pred))\n",
    "print(f\"Root Mean Squared Error (RMSE): {rmse}\")"
   ]
  },
  {
   "cell_type": "markdown",
   "metadata": {},
   "source": [
    "## Data Visualization\n",
    "Using charts, we can visualize the data by comparing our models' predictions to the actual ratings. The below chart is how well our best model performed. As you can see, it is still prone to large errors, but the overall shape of the predictions overlap the true ratings."
   ]
  },
  {
   "cell_type": "code",
   "execution_count": 358,
   "metadata": {},
   "outputs": [
    {
     "data": {
      "image/png": "[encoded data removed]",
      "text/plain": [
       "<Figure size 1000x600 with 1 Axes>"
      ]
     },
     "metadata": {},
     "output_type": "display_data"
    }
   ],
   "source": [
    "import matplotlib.pyplot as plt\n",
    "\n",
    "plt.figure(figsize=(10, 6))\n",
    "plt.plot(y_test, label=\"True Ratings\", color='blue')\n",
    "plt.plot(y_pred, label=\"Predicted Ratings\", color='red')\n",
    "plt.title('Lift Chart: True vs Predicted Ratings')\n",
    "plt.xlabel('Businesses')\n",
    "plt.ylabel('Star Rating')\n",
    "plt.text(x=0.05, y=0.95, s=f'RMSE: {rmse:.2f}', fontsize=12, transform=plt.gca().transAxes)  # Display RMSE\n",
    "plt.legend()\n",
    "plt.show()"
   ]
  },
  {
   "cell_type": "markdown",
   "metadata": {},
   "source": [
    "## Extra Analysis\n",
    "To further analyze the results, we measured two main statistics: percent correct and average error. Percent correct is simply how many out of the 100 predictions were correct, while the average error represents how many stars on average the model was off by. These stats can be relevant, but are also affected by the amount of overlap between training data and the data used for predictions."
   ]
  },
  {
   "cell_type": "code",
   "execution_count": 365,
   "metadata": {},
   "outputs": [
    {
     "name": "stdout",
     "output_type": "stream",
     "text": [
      "Percent correct: 71.86%\n",
      "Average error: 0.1532 stars\n"
     ]
    }
   ],
   "source": [
    "print('Percent correct: ' + str(percent_correct) + \"%\")\n",
    "\n",
    "average_error = error_total/sample_size\n",
    "print('Average error: ' + str(average_error) + \" stars\")"
   ]
  }
 ],
 "metadata": {
  "kernelspec": {
   "display_name": "base",
   "language": "python",
   "name": "python3"
  },
  "language_info": {
   "codemirror_mode": {
    "name": "ipython",
    "version": 3
   },
   "file_extension": ".py",
   "mimetype": "text/x-python",
   "name": "python",
   "nbconvert_exporter": "python",
   "pygments_lexer": "ipython3",
   "version": "3.12.4"
  }
 },
 "nbformat": 4,
 "nbformat_minor": 2
}
